{
 "cells": [
  {
   "cell_type": "code",
   "execution_count": null,
   "metadata": {},
   "outputs": [],
   "source": [
    "'''\n",
    "[EDA] -> 병건님\n",
    "Label 별로 plot을 그려보고\n",
    "fft 함수를 사용해서 그려보고 -> 이 둘을 비교 \n",
    "kurtosis, rms (scipy 라이브러리와 함수를 사용해서 이또한 그려보기) 적용하여 라벨별로 hist 그려보기\n",
    "\n",
    "1. 정윤님께서, 주신 데이터 주파수나 몇초동안 측정 된건지 파악하기\n",
    "-> 1초동안 측정 된 것이라고함\n",
    "\n",
    "2. 데이터의 col 수와 hz 값? 을 나누었을 때 나오는 값이 시간임\n",
    "    ex) col : 8000 , hz = 8000 -> 1 sec 동안 측정 된 데이터\n",
    "    \n",
    "3. 정윤님 요청\n",
    " 정상 모델이 비정상을 잘 분류 하는지? -> 정확도\n",
    " 비정상 label 군집이 잘 잡히는지?\n",
    "'''"
   ]
  },
  {
   "cell_type": "code",
   "execution_count": null,
   "metadata": {},
   "outputs": [],
   "source": [
    "import pandas as pd\n",
    "import numpy as np\n",
    "import matplotlib.pyplot as plt\n",
    "\n",
    "from process_signal import positive_fft, rms\n",
    "from scipy.stats import skew, kurtosis"
   ]
  },
  {
   "cell_type": "code",
   "execution_count": null,
   "metadata": {},
   "outputs": [],
   "source": [
    "import pandas as pd\n",
    "df = pd.read_csv('sample.csv')\n",
    "df"
   ]
  },
  {
   "cell_type": "code",
   "execution_count": null,
   "metadata": {},
   "outputs": [],
   "source": [
    "label_lst = df.label.unique().tolist()\n",
    "label_lst"
   ]
  },
  {
   "cell_type": "code",
   "execution_count": null,
   "metadata": {},
   "outputs": [],
   "source": [
    "zero = df[df.label == 0]\n",
    "one = df[df.label == 1]\n",
    "two = df[df.label == 2]\n",
    "three = df[df.label == 3]\n",
    "four = df[df.label == 4]\n",
    "\n",
    "label_df = [zero, one, two, three, four]\n",
    "\n",
    "for data in enumerate(label_df):\n",
    "    print(f\"label : {data[0]}, size : {len(data[1])}\")\n",
    "    "
   ]
  },
  {
   "cell_type": "code",
   "execution_count": null,
   "metadata": {},
   "outputs": [],
   "source": [
    "'''\n",
    "practice\n",
    "'''\n",
    "df.loc[df.label == 0].iloc[:,2:-1]\n",
    "label_0_ary = df.loc[df.label == 0].iloc[:,2:-1].values\n",
    "label_0_ary"
   ]
  },
  {
   "cell_type": "code",
   "execution_count": null,
   "metadata": {},
   "outputs": [],
   "source": [
    "'''\n",
    "label별로 구분 , 0~8000 Hz까지 신호 \n",
    "'''\n",
    "label_0_samples = df.loc[df.label == 0].iloc[:,2:-1].values\n",
    "label_1_samples = df.loc[df.label == 1].iloc[:,2:-1].values\n",
    "label_2_samples = df.loc[df.label == 2].iloc[:,2:-1].values\n",
    "label_3_samples = df.loc[df.label == 3].iloc[:,2:-1].values\n",
    "label_4_samples = df.loc[df.label == 4].iloc[:,2:-1].values\n",
    "\n",
    "print(len(label_4_samples))"
   ]
  },
  {
   "cell_type": "code",
   "execution_count": null,
   "metadata": {},
   "outputs": [],
   "source": [
    "'''\n",
    "raw signal visualization\n",
    "'''\n",
    "import matplotlib.pyplot as plt\n",
    "\n",
    "num_subplots = int(len(label_0_samples) / 2 - 1)\n",
    "fig, axes = plt.subplots(num_subplots, 1, figsize=(10, 2*num_subplots))\n",
    "\n",
    "for n in range(num_subplots):\n",
    "    axes[n].plot(label_0_samples[n])\n",
    "plt.subplots_adjust(hspace=0.5)\n",
    "plt.show()"
   ]
  },
  {
   "cell_type": "code",
   "execution_count": null,
   "metadata": {},
   "outputs": [],
   "source": [
    "'''\n",
    "fft랑 비교 (label 0 ~ 4 까지 한큐에)\n",
    "'''\n",
    "import numpy as np\n",
    "from process_signal import positive_fft\n",
    "import matplotlib.pyplot as plt\n",
    "\n",
    "sample_lst = [label_0_samples,label_1_samples, label_2_samples, label_3_samples, label_4_samples]\n",
    "label_num = 0\n",
    "\n",
    "for sample in sample_lst:\n",
    "    num_samples = len(sample)\n",
    "    fig, axes = plt.subplots(num_samples, 2, figsize=(15, 5*120))\n",
    "\n",
    "    for n in range(num_samples):\n",
    "        axes[n, 0].plot(sample[n])\n",
    "        axes[n, 0].set_title(f'Label {label_num} Sample {n} RMS {round((np.mean(sample[n]**2))**0.5,4)}')\n",
    "        \n",
    "        freq, mag = positive_fft(sample[n], 8000)  #positive_fft 함수 두번째 인자 1맞는가?\n",
    "        axes[n, 1].plot(freq, mag)\n",
    "        axes[n, 1].set_title(f'FFT of Sample {n}')\n",
    "\n",
    "    label_num += 1\n",
    "     \n",
    "    plt.subplots_adjust(wspace=0.3, hspace=0.5)\n",
    "    plt.show()"
   ]
  },
  {
   "cell_type": "code",
   "execution_count": null,
   "metadata": {},
   "outputs": [],
   "source": [
    "'''\n",
    "위에 시각화로 알게된 점\n",
    "Label = 0 (이상) 의 경우 raw signal의 파형이 예뻐서 FFT를 수행해도 결과가 이쁘게 나온다.\n",
    "\n",
    "하지만, 비정상 SIGNAL의 경우 파형이 일부 이쁘지 않은 것을 확인할 수 있었다.\n",
    "    여기서, Label2와 Label4가 Label3에 비해서도 raw signal 파형이 이쁘지 않다. (특히 2가 심하다.)\n",
    "        label2, 4와 3을 비교해보면 어떨까\n",
    "'''"
   ]
  },
  {
   "cell_type": "code",
   "execution_count": null,
   "metadata": {},
   "outputs": [],
   "source": [
    "'''\n",
    "Label 0 일때, fft 랑 비교\n",
    "'''\n",
    "num_samples = len(label_0_samples)\n",
    "fig, axes = plt.subplots(num_samples, 2, figsize=(15, 5*120))\n",
    "\n",
    "for n in range(num_samples):\n",
    "    axes[n, 0].plot(label_0_samples[n])\n",
    "    axes[n, 0].set_title(f'Label 0 Sample {n}')\n",
    "    \n",
    "    freq, mag = positive_fft(label_0_samples[n], 1)\n",
    "    axes[n, 1].plot(freq, mag)\n",
    "    axes[n, 1].set_title(f'FFT of Sample {n}')\n",
    "\n",
    "plt.subplots_adjust(wspace=0.3, hspace=0.5)\n",
    "plt.show()"
   ]
  },
  {
   "cell_type": "code",
   "execution_count": null,
   "metadata": {},
   "outputs": [],
   "source": [
    "'''\n",
    "각 label 당 한 sample (한 row) 을 kurtosis, rms에  넣었을 때\n",
    "나오는 return 값들을 받아서, 각 라벨 별로 히스토그램을 그려서 분포를 한번 비교해보기\n",
    "'''\n",
    "sample_lst = [label_0_samples,label_1_samples, label_2_samples, label_3_samples, label_4_samples]\n",
    "label_cnt = 0\n",
    "\n",
    "fig2, axes2 = plt.subplots(len(sample_lst), 2, figsize = (15, 30))\n",
    "\n",
    "for sample in sample_lst:\n",
    "    rms_values_lst = []\n",
    "    kurtosis_values_lst = []\n",
    "    \n",
    "    for n in range(len(sample)):\n",
    "        rms_values_lst.append(rms(sample[n]))\n",
    "        kurtosis_values_lst.append(kurtosis(sample[n]))\n",
    "\n",
    "    axes2[label_cnt,0].hist(rms_values_lst)\n",
    "    axes2[label_cnt,0].set_title(f'Label {label_cnt} rms Histogram')\n",
    "    \n",
    "    axes2[label_cnt,1].hist(kurtosis_values_lst)\n",
    "    axes2[label_cnt,1].set_title(f'Label {label_cnt} kurtosis Histogram')\n",
    "    \n",
    "    label_cnt += 1"
   ]
  },
  {
   "cell_type": "code",
   "execution_count": null,
   "metadata": {},
   "outputs": [],
   "source": [
    "df"
   ]
  },
  {
   "cell_type": "code",
   "execution_count": null,
   "metadata": {},
   "outputs": [],
   "source": [
    "'''\n",
    "RMS, Kurtosis 적용 후, Label 별로 비교하지 않고 한꺼번에 비교하기 위하여 다르게 시각화를 해보았다.\n",
    "'''\n",
    "\n",
    "import numpy as np\n",
    "import matplotlib.pyplot as plt\n",
    "from scipy.stats import kurtosis\n",
    "\n",
    "# Assuming rms is a function that calculates the root mean square of a sample\n",
    "def rms(sample):\n",
    "    return np.sqrt(np.mean(np.square(sample)))\n",
    "\n",
    "# Sample data\n",
    "sample_lst = [label_0_samples, label_1_samples, label_2_samples, label_3_samples, label_4_samples]\n",
    "\n",
    "# Define colors for each label\n",
    "colors = ['blue', 'orange', 'green', 'red', 'purple']\n",
    "labels = [f'Label {i}' for i in range(len(sample_lst))]\n",
    "\n",
    "fig, axes = plt.subplots(1, 2, figsize=(15, 7))\n",
    "\n",
    "# Plot RMS histograms\n",
    "for idx, (sample, color, label) in enumerate(zip(sample_lst, colors, labels)):\n",
    "    rms_values = [rms(s) for s in sample]\n",
    "    axes[0].hist(rms_values, bins=20, color=color, alpha=0.5, label=label)\n",
    "\n",
    "# Set titles and legend for RMS histogram\n",
    "axes[0].set_title('RMS Histogram')\n",
    "axes[0].set_xlabel('RMS Value')\n",
    "axes[0].set_ylabel('Frequency')\n",
    "axes[0].legend()\n",
    "\n",
    "# Plot Kurtosis histograms\n",
    "for idx, (sample, color, label) in enumerate(zip(sample_lst, colors, labels)):\n",
    "    kurtosis_values = [kurtosis(s) for s in sample]\n",
    "    axes[1].hist(kurtosis_values, bins=20, color=color, alpha=0.5, label=label)\n",
    "\n",
    "# Set titles and legend for Kurtosis histogram\n",
    "axes[1].set_title('Kurtosis Histogram')\n",
    "axes[1].set_xlabel('Kurtosis Value')\n",
    "axes[1].set_ylabel('Frequency')\n",
    "axes[1].legend()\n",
    "\n",
    "plt.tight_layout()\n",
    "plt.show()\n"
   ]
  },
  {
   "cell_type": "code",
   "execution_count": null,
   "metadata": {},
   "outputs": [],
   "source": [
    "'''\n",
    "알 수 있는점?\n",
    "RMS 값에서 가장 작은 값들의 분포는 역시 Label 2 가 제일 많았고,\n",
    "Kurtosis 값 또한, Label2 에서 이상치들이 많이 존재하는 것처럼 보인다.\n",
    "\n",
    "Label2 / 3 / 4 중에 Label 2 에 부여된 값들을 분석을 해보면 좋을것 같다.\n",
    "'''"
   ]
  },
  {
   "cell_type": "code",
   "execution_count": null,
   "metadata": {},
   "outputs": [],
   "source": [
    "'''\n",
    "3. 정윤님 요청\n",
    " 정상 모델이 비정상을 잘 분류 하는지?\n",
    " 비정상 label 군집이 잘 잡히는지?\n",
    "'''"
   ]
  },
  {
   "cell_type": "code",
   "execution_count": null,
   "metadata": {},
   "outputs": [],
   "source": [
    "'''\n",
    "MAX <2 인 값은 안봐도 되신다고 하셨다\n",
    "'''\n",
    "dff = df[df.MAX>2]\n",
    "dff.drop_duplicates(subset=None, keep='first', inplace=True, ignore_index=False)\n",
    "dff.reset_index(drop = True, inplace = True)\n",
    "dff"
   ]
  },
  {
   "cell_type": "code",
   "execution_count": null,
   "metadata": {},
   "outputs": [],
   "source": [
    "X = dff.drop(columns = ['id', 'label', 'MAX'])\n",
    "y = dff['label']\n",
    "\n",
    "X"
   ]
  },
  {
   "cell_type": "code",
   "execution_count": null,
   "metadata": {},
   "outputs": [],
   "source": [
    "# 0 말고 다른 label 은 모두 1처리\n",
    "y_binary = y.apply(lambda x: 0 if x == 0 else 1)\n",
    "y_binary"
   ]
  },
  {
   "cell_type": "code",
   "execution_count": null,
   "metadata": {},
   "outputs": [],
   "source": [
    "from sklearn.model_selection import train_test_split\n",
    "from sklearn.ensemble import RandomForestClassifier\n",
    "from sklearn.metrics import accuracy_score, f1_score\n",
    "\n",
    "# train / test\n",
    "X_train, X_test, y_train, y_test = train_test_split(X, y_binary, test_size=0.2, random_state=42)\n",
    "\n",
    "# 학습\n",
    "clf = RandomForestClassifier(random_state=42)\n",
    "clf.fit(X_train, y_train)\n",
    "\n",
    "# 예측\n",
    "y_pred = clf.predict(X_test)\n",
    "\n",
    "# 성능 평가\n",
    "accuracy = accuracy_score(y_test, y_pred)\n",
    "f1 = f1_score(y_test, y_pred)\n",
    "\n",
    "print(f'Accuracy: {accuracy}')\n",
    "print(f'F1 Score: {f1}')\n"
   ]
  },
  {
   "cell_type": "code",
   "execution_count": null,
   "metadata": {},
   "outputs": [],
   "source": [
    "X_anomalous = X[y_binary == 1]\n",
    "print(f'비정상 레이블 수 : {len(dff) - len(dff[dff.label==0])}')\n",
    "X_anomalous"
   ]
  },
  {
   "cell_type": "code",
   "execution_count": null,
   "metadata": {},
   "outputs": [],
   "source": [
    "from sklearn.decomposition import PCA\n",
    "from sklearn.cluster import KMeans\n",
    "import matplotlib.pyplot as plt\n",
    "\n",
    "# 비정상 데이터만 추출합니다\n",
    "X_anomalous = X[y_binary == 1]\n",
    "\n",
    "# PCA\n",
    "pca = PCA(n_components=2)\n",
    "X_pca = pca.fit_transform(X_anomalous)\n",
    "\n",
    "# K-means \n",
    "kmeans = KMeans(n_clusters=4, random_state=42)\n",
    "clusters = kmeans.fit_predict(X_pca)\n",
    "\n",
    "# Visualization\n",
    "plt.scatter(X_pca[:, 0], X_pca[:, 1], c=clusters, cmap='viridis')\n",
    "plt.xlabel('PCA Component 1')\n",
    "plt.ylabel('PCA Component 2')\n",
    "plt.title('Cluster Visualization of Anomalous Data')\n",
    "plt.colorbar()\n",
    "plt.show()\n"
   ]
  },
  {
   "cell_type": "code",
   "execution_count": null,
   "metadata": {},
   "outputs": [],
   "source": [
    "'''\n",
    "3차원\n",
    "'''\n",
    "from mpl_toolkits.mplot3d import Axes3D\n",
    "\n",
    "X_anomalous = X[y_binary == 1]\n",
    "\n",
    "pca = PCA(n_components=3)\n",
    "X_pca = pca.fit_transform(X_anomalous)\n",
    "\n",
    "\n",
    "kmeans = KMeans(n_clusters=4, random_state=42)\n",
    "clusters = kmeans.fit_predict(X_pca)\n",
    "\n",
    "# 3D 시각화\n",
    "fig = plt.figure(figsize=(10, 8))\n",
    "ax = fig.add_subplot(111, projection='3d')\n",
    "# 군집별 색 다르게 시각화\n",
    "scatter = ax.scatter(X_pca[:, 0], X_pca[:, 1], X_pca[:, 2], c=clusters, cmap='viridis')\n",
    "\n",
    "ax.set_xlabel('PCA Component 1')\n",
    "ax.set_ylabel('PCA Component 2')\n",
    "ax.set_zlabel('PCA Component 3')\n",
    "ax.set_title('3D Cluster Visualization of Anomalous Data')\n",
    "\n",
    "cbar = plt.colorbar(scatter, ax=ax)\n",
    "cbar.set_label('Cluster')\n",
    "\n",
    "plt.show()\n"
   ]
  },
  {
   "cell_type": "code",
   "execution_count": null,
   "metadata": {},
   "outputs": [],
   "source": [
    "'''\n",
    "비정상 label 값 처리를 1로하지 X\n",
    "'''\n",
    "import pandas as pd\n",
    "\n",
    "# 비정상 데이터만 추출 (label이 1~4인 데이터)\n",
    "X_anomalous = X[y > 0]\n",
    "y_anomalous = y[y > 0]\n"
   ]
  },
  {
   "cell_type": "code",
   "execution_count": null,
   "metadata": {},
   "outputs": [],
   "source": [
    "import matplotlib.pyplot as plt\n",
    "from sklearn.decomposition import PCA\n",
    "from sklearn.cluster import KMeans\n",
    "\n",
    "# PCA\n",
    "pca = PCA(n_components=2)\n",
    "X_pca = pca.fit_transform(X_anomalous)\n",
    "\n",
    "# K-means 군집화\n",
    "kmeans = KMeans(n_clusters=4, random_state=42)\n",
    "clusters = kmeans.fit_predict(X_pca)\n",
    "\n",
    "# 시각화\n",
    "plt.figure(figsize=(12, 8))\n",
    "scatter = plt.scatter(X_pca[:, 0], X_pca[:, 1], c=clusters, cmap='viridis', label=clusters)\n",
    "plt.xlabel('PCA Component 1')\n",
    "plt.ylabel('PCA Component 2')\n",
    "plt.title('Cluster Visualization of Anomalous Data')\n",
    "\n",
    "# 레이블에 따라 다른 색으로 시각화\n",
    "for i in range(1, 5):\n",
    "    mask = y_anomalous == i\n",
    "    plt.scatter(X_pca[mask, 0], X_pca[mask, 1], label=f'Label {i}')\n",
    "\n",
    "\n",
    "plt.legend(loc='center left', bbox_to_anchor=(1, 0.5))\n",
    "plt.colorbar(scatter, label='Cluster')\n",
    "plt.tight_layout(rect=[0, 0, 0.85, 1])\n",
    "plt.show()\n"
   ]
  }
 ],
 "metadata": {
  "kernelspec": {
   "display_name": "Python 3",
   "language": "python",
   "name": "python3"
  },
  "language_info": {
   "codemirror_mode": {
    "name": "ipython",
    "version": 3
   },
   "file_extension": ".py",
   "mimetype": "text/x-python",
   "name": "python",
   "nbconvert_exporter": "python",
   "pygments_lexer": "ipython3",
   "version": "3.12.3"
  }
 },
 "nbformat": 4,
 "nbformat_minor": 2
}
