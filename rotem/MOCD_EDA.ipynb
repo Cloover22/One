{
 "cells": [
  {
   "cell_type": "code",
   "execution_count": null,
   "metadata": {},
   "outputs": [],
   "source": [
    "import pandas as pd\n",
    "import numpy as np\n",
    "import matplotlib.pyplot as plt\n",
    "import seaborn as sns\n",
    "from datetime import datetime\n",
    "\n",
    "path = 'c:\\\\Users\\\\jaeju\\\\vscode\\\\Onepredict\\\\rotem\\\\Data\\\\breakdown_data\\\\1. 과전류 고장 데이터\\\\By Train\\\\06편성\\\\TS6-M11026-VVVF4-4-12-17\\\\Ft_0000_20171116_141554_MOCD.csv'"
   ]
  },
  {
   "cell_type": "code",
   "execution_count": null,
   "metadata": {},
   "outputs": [],
   "source": [
    "path"
   ]
  },
  {
   "cell_type": "code",
   "execution_count": null,
   "metadata": {},
   "outputs": [],
   "source": [
    "# 107번 행까지 건너뛰기\n",
    "df = pd.read_csv(path, skiprows=106)"
   ]
  },
  {
   "cell_type": "code",
   "execution_count": null,
   "metadata": {},
   "outputs": [],
   "source": [
    "'''\n",
    "0.005 sec 기준으로 sampling 하고 있다는 것을 알 수 있음\n",
    "'''\n",
    "for i in range(len(df)):\n",
    "    print(df['시간'][i])"
   ]
  },
  {
   "cell_type": "code",
   "execution_count": null,
   "metadata": {},
   "outputs": [],
   "source": [
    "# 시간 문자열을 datetime 형식으로 변환\n",
    "def parse_time(time_str):\n",
    "    return datetime.strptime(time_str.split(' - ')[1], '%H:%M:%S:%f')\n",
    "\n",
    "df['시간'] = df['시간'].apply(parse_time)\n",
    "\n",
    "# 데이터프레임을 시간 컬럼을 인덱스로 설정\n",
    "df.set_index('시간', inplace=True)\n",
    "\n",
    "# 0.1초 간격으로 리샘플링\n",
    "df_resampled = df.resample('100L').mean().interpolate()\n",
    "\n",
    "df_resampled"
   ]
  },
  {
   "cell_type": "code",
   "execution_count": null,
   "metadata": {},
   "outputs": [],
   "source": [
    "fig, ax = plt.subplots(len(df_resampled.columns), 1 , figsize=(14, 5*120))\n",
    "\n",
    "# 각 컬럼을 시각화\n",
    "for idx, column in enumerate(df_resampled.columns):\n",
    "    if column != 'MOCD':\n",
    "        ax[idx].plot(df_resampled.index, df_resampled[column].values)\n",
    "        ax[idx].set_title(f'Visualization of {column}')\n",
    "        \n",
    "\n",
    "# MOCD가 0에서 1로 변하는 순간을 찾아 빨간 선으로 표시\n",
    "change_points = df_resampled[df_resampled['MOCD'].diff() == 1].index\n",
    "for change_point in change_points:\n",
    "    for x in ax:\n",
    "        x.axvline(x=change_point, color='red', linestyle='--', linewidth=2, label='MOCD Change')\n",
    "\n",
    "plt.subplots_adjust(wspace=0.3, hspace=0.5)\n",
    "plt.show()"
   ]
  },
  {
   "cell_type": "code",
   "execution_count": null,
   "metadata": {},
   "outputs": [],
   "source": [
    "'''\n",
    "함수화 해봤다.\n",
    "'''"
   ]
  },
  {
   "cell_type": "code",
   "execution_count": null,
   "metadata": {},
   "outputs": [],
   "source": [
    "# Timestamp 형식으로 전처리\n",
    "def parse_time(time_str):\n",
    "    return datetime.strptime(time_str.split(' - ')[1], '%H:%M:%S:%f')\n",
    "\n",
    "# df 전처리\n",
    "def preprocess_df(path):\n",
    "    df = pd.read_csv(path, skiprows=106)\n",
    "    df['시간'] = df['시간'].apply(parse_time)\n",
    "    df.set_index('시간', inplace=True)\n",
    "\n",
    "    df = df.resample('100L').mean().interpolate() # 0.1초 간격으로 resampling\n",
    "    return df\n",
    "\n",
    "# 시각화 (MOCD)\n",
    "def visualization_mocd(df):\n",
    "    fig, ax = plt.subplots(len(df.columns), 1 , figsize=(14, 5*120))\n",
    "\n",
    "    # 각 컬럼을 시각화\n",
    "    for idx, column in enumerate(df.columns):\n",
    "        if column != 'MOCD':\n",
    "            ax[idx].plot(df.index, df[column].values)\n",
    "            ax[idx].set_title(f'Visualization of {column}')\n",
    "            \n",
    "\n",
    "    # MOCD가 0에서 1로 변하는 순간을 찾아 빨간 선으로 표시\n",
    "    change_points = df[df['MOCD'].diff() == 1].index\n",
    "    for change_point in change_points:\n",
    "        for x in ax:\n",
    "            x.axvline(x=change_point, color='red', linestyle='--', linewidth=2, label='MOCD Change')\n",
    "\n",
    "    plt.subplots_adjust(wspace=0.3, hspace=0.5)\n",
    "    plt.show()"
   ]
  },
  {
   "cell_type": "code",
   "execution_count": null,
   "metadata": {},
   "outputs": [],
   "source": [
    "#path2 = 'c:\\\\Users\\\\jaeju\\\\vscode\\\\Onepredict\\\\rotem\\\\Data\\\\breakdown_data\\\\1. 과전류 고장 데이터\\\\By Train\\\\06편성\\\\TS6-M11026-VVVF4-4-12-17\\\\Ft_0000_20171116_141554_MOCD.csv'\n",
    "#path3 = 'C:\\\\Users\\\\jaeju\\\\vscode\\\\Onepredict\\\\rotem\\\\Data\\\\breakdown_data\\\\1. 과전류 고장 데이터\\\\By Train\\\\05편성\\\\TS05-1-1045-VVVF4-31-10-2017\\\\Ft_0000_20171024_153206_MOCD.csv'\n",
    "#path4 = 'C:\\\\Users\\\\jaeju\\\\vscode\\\\Onepredict\\\\rotem\\\\Data\\\\breakdown_data\\\\1. 과전류 고장 데이터\\\\By Train\\\\05편성\\\\TS05-1-1045-VVVF4-31-10-2017\\\\Ft_0000_20171024_153208_MOCD.csv'\n",
    "#path5 = 'c:\\\\Users\\\\jaeju\\\\vscode\\\\Onepredict\\\\rotem\\\\Data\\\\breakdown_data\\\\1. 과전류 고장 데이터\\\\By Train\\\\04편성\\\\TS04-M11024-VVVF4-14-10-2017\\\\ts4-m1044-vvvf4-24-10-2017\\\\Ft_0000_20171024_091040_MOCD.csv'\n",
    "#path6 = 'C:\\\\Users\\\\jaeju\\\\vscode\\\\Onepredict\\\\rotem\\\\Data\\\\breakdown_data\\\\1. 과전류 고장 데이터\\\\By Train\\\\04편성\\\\TS05-1-1045-VVVF4-31-10-2017\\\\ts4-m1044-vvvf4-24-10-2017\\\\Ft_0000_20171024_091045_MOCD.csv'"
   ]
  },
  {
   "cell_type": "code",
   "execution_count": null,
   "metadata": {},
   "outputs": [],
   "source": [
    "if __name__ == \"__main__\":\n",
    "    dff = preprocess_df(path)\n",
    "    visualization_mocd(dff)"
   ]
  }
 ],
 "metadata": {
  "kernelspec": {
   "display_name": "Python 3",
   "language": "python",
   "name": "python3"
  },
  "language_info": {
   "codemirror_mode": {
    "name": "ipython",
    "version": 3
   },
   "file_extension": ".py",
   "mimetype": "text/x-python",
   "name": "python",
   "nbconvert_exporter": "python",
   "pygments_lexer": "ipython3",
   "version": "3.12.3"
  }
 },
 "nbformat": 4,
 "nbformat_minor": 2
}
