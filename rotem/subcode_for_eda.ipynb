{
 "cells": [
  {
   "cell_type": "code",
   "execution_count": null,
   "metadata": {},
   "outputs": [],
   "source": [
    "\n",
    "fig, ax = plt.subplots(len(df_resampled.columns) - 1, 1, figsize=(14, 7), sharex=True)\n",
    "\n",
    "# 각 컬럼을 시각화\n",
    "for idx, column in enumerate(df_resampled.columns):\n",
    "    if column != 'MOCD':\n",
    "        ax[idx].plot(df_resampled.index, df_resampled[column], label=column)\n",
    "        ax[idx].set_ylabel(column)\n",
    "\n",
    "# MOCD가 0에서 1로 변하는 순간을 찾아 빨간 선으로 표시\n",
    "change_points = df_resampled[df_resampled['MOCD'].diff() == 1].index\n",
    "for change_point in change_points:\n",
    "    for axis in ax:\n",
    "        axis.axvline(x=change_point, color='red', linestyle='--', linewidth=2)\n",
    "\n",
    "# 플롯 설정\n",
    "ax[-1].set_xlabel('Time')\n",
    "ax[0].legend(loc='upper left')\n",
    "fig.suptitle('Time Series Data with MOCD Change Points')\n",
    "\n",
    "plt.subplots_adjust(wspace=0.3, hspace=0.5)\n",
    "plt.show()"
   ]
  },
  {
   "cell_type": "code",
   "execution_count": null,
   "metadata": {},
   "outputs": [],
   "source": [
    "# Timestamp 형식으로 전처리\n",
    "def parse_time(time_str):\n",
    "    return datetime.strptime(time_str.split(' - ')[1], '%H:%M:%S:%f')\n",
    "\n",
    "# df 전처리\n",
    "def preprocess_df(path):\n",
    "    df = pd.read_csv(path, skiprows=106)\n",
    "    df['시간'] = df['시간'].apply(parse_time)\n",
    "    df.set_index('시간', inplace=True)\n",
    "\n",
    "    df = df.resample('100L').mean().interpolate() # 0.1초 간격으로 resampling\n",
    "    return df\n",
    "\n",
    "# 시각화 (MOCD)\n",
    "def visualization_mocd(df):\n",
    "    fig, ax = plt.subplots(len(df.columns), 1 , figsize=(14, 5*120))\n",
    "\n",
    "    # 각 컬럼을 시각화\n",
    "    for idx, column in enumerate(df.columns):\n",
    "        if column != 'MOCD':\n",
    "            ax[idx].plot(df.index, df[column].values)\n",
    "            ax[idx].set_title(f'Visualization of {column}')\n",
    "            \n",
    "\n",
    "    # MOCD가 0에서 1로 변하는 순간을 찾아 빨간 선으로 표시\n",
    "    change_points = df[df['MOCD'].diff() == 1].index\n",
    "    for change_point in change_points:\n",
    "        for x in ax:\n",
    "            x.axvline(x=change_point, color='red', linestyle='--', linewidth=2, label='MOCD Change')\n",
    "\n",
    "    plt.subplots_adjust(wspace=0.3, hspace=0.5)\n",
    "    plt.show()"
   ]
  }
 ],
 "metadata": {
  "language_info": {
   "name": "python"
  }
 },
 "nbformat": 4,
 "nbformat_minor": 2
}
