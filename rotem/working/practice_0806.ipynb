{
 "cells": [
  {
   "cell_type": "code",
   "execution_count": null,
   "metadata": {},
   "outputs": [],
   "source": [
    "import pandas as pd\n",
    "import psycopg2"
   ]
  },
  {
   "cell_type": "code",
   "execution_count": null,
   "metadata": {},
   "outputs": [],
   "source": [
    "lst = [[1,2,3,4], [5,6,7,8], [{},{},{},{}]]\n",
    "\n",
    "column_names = ['A', 'B', 'C', 'D']\n",
    "df = pd.DataFrame(lst, columns=column_names)"
   ]
  },
  {
   "cell_type": "code",
   "execution_count": null,
   "metadata": {},
   "outputs": [],
   "source": [
    "# psycopg2 활용하여 db 붙기\n",
    "for equip in [14]:\n",
    "    for motor_num in [1]:\n",
    "        conn = psycopg2.connect(\n",
    "        host = \"192.168.10.30\",\n",
    "        user = \"guardione\",\n",
    "        password = \"onepredict1!\",\n",
    "        dbname = \"LGES_feature\",\n",
    "        port = 5432 \n",
    "        )\n",
    "\n",
    "        cursor = conn.cursor()\n",
    "        cursor.execute(\n",
    "            f\"select * from artifact where motor_number = {motor_num} ANDacq_time BETWEEN '2023-03-01' AND '2024-08-01' ANDequipment_id = {equip} ORDER BY acq_time asc\"\n",
    "        )\n",
    "    \n",
    "result_list = [x for x in cursor.fetchall()]\n",
    "\n",
    "column_names = ['acq_time', 'equipment_id', 'motor_number', 'feature']\n",
    "df = pd.DataFrame(result_list, columns=column_names)"
   ]
  },
  {
   "cell_type": "code",
   "execution_count": null,
   "metadata": {},
   "outputs": [],
   "source": [
    "similarity_trend = []\n",
    "for i in range(len(df)):\n",
    "    similarity_trend.append(df['feature'][i]['indicator']['CURRENT_SIMILARITY_FEATURE'])"
   ]
  }
 ],
 "metadata": {
  "kernelspec": {
   "display_name": "Python 3",
   "language": "python",
   "name": "python3"
  },
  "language_info": {
   "codemirror_mode": {
    "name": "ipython",
    "version": 3
   },
   "file_extension": ".py",
   "mimetype": "text/x-python",
   "name": "python",
   "nbconvert_exporter": "python",
   "pygments_lexer": "ipython3",
   "version": "3.12.3"
  }
 },
 "nbformat": 4,
 "nbformat_minor": 2
}
